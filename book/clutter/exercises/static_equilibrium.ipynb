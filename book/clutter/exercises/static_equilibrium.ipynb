{
 "cells": [
  {
   "cell_type": "markdown",
   "metadata": {
    "cell_id": "00000-a21c7b2e-3ec4-42ae-ad36-1236eeaeb8dc",
    "colab_type": "text",
    "deepnote_cell_type": "markdown",
    "id": "OE4xjKWgtIX2"
   },
   "source": [
    "# Solving for static equilibrium\n",
    "This notebook will help you assess in simulation which of the sphere configurations in the problem represent configurations at equilibrium and which. **You do not need to turn in this notebook, and there is no autograded component.** It is just to help you build intuition, show you how to use Drake for problems like this, and check your answers!\n",
    "\n",
    "## Imports and function definitions"
   ]
  },
  {
   "cell_type": "code",
   "execution_count": null,
   "metadata": {
    "cell_id": "00001-ca672b35-7279-4dab-9dd0-6ab261e18cc8",
    "colab": {},
    "colab_type": "code",
    "deepnote_cell_type": "code",
    "deepnote_to_be_reexecuted": false,
    "execution_millis": 0,
    "execution_start": 1633609324746,
    "id": "KdXAerwV13rQ",
    "output_cleared": false,
    "source_hash": "a55838a8"
   },
   "outputs": [],
   "source": [
    "# python libraries\n",
    "import numpy as np\n",
    "import pydrake\n",
    "from pydrake.all import (\n",
    "    AddMultibodyPlantSceneGraph,\n",
    "    DiagramBuilder,\n",
    "    FixedOffsetFrame,\n",
    "    MeshcatVisualizer,\n",
    "    RigidTransform,\n",
    "    RotationMatrix,\n",
    "    Simulator,\n",
    "    Solve,\n",
    "    Sphere,\n",
    "    StartMeshcat,\n",
    "    StaticEquilibriumProblem,\n",
    ")\n",
    "\n",
    "from manipulation import running_as_notebook\n",
    "from manipulation.scenarios import AddShape"
   ]
  },
  {
   "cell_type": "code",
   "execution_count": null,
   "metadata": {
    "cell_id": "00002-ea0c2af3-ef76-4b74-a470-53d13808645c",
    "deepnote_cell_type": "code",
    "deepnote_to_be_reexecuted": false,
    "execution_millis": 181,
    "execution_start": 1633609325171,
    "source_hash": "6d42057f",
    "tags": []
   },
   "outputs": [],
   "source": [
    "# Start the visualizer.\n",
    "meshcat = StartMeshcat()"
   ]
  },
  {
   "cell_type": "markdown",
   "metadata": {
    "cell_id": "00002-05b1e502-5c03-415c-8e3e-ef22b18ecfa9",
    "deepnote_cell_type": "markdown",
    "tags": []
   },
   "source": [
    "## Initialization"
   ]
  },
  {
   "cell_type": "code",
   "execution_count": null,
   "metadata": {
    "cell_id": "00006-6bd424de-1c38-46ba-8d68-ff1dede7916e",
    "deepnote_cell_type": "code",
    "deepnote_to_be_reexecuted": false,
    "execution_millis": 0,
    "execution_start": 1633609332544,
    "source_hash": "3f5297f9",
    "tags": []
   },
   "outputs": [],
   "source": [
    "mu = 0.5\n",
    "r = 0.3\n",
    "m = 1\n",
    "\n",
    "builder = DiagramBuilder()\n",
    "plant, scene_graph = AddMultibodyPlantSceneGraph(builder, time_step=1e-4)\n",
    "plant.set_name(\"plant\")\n",
    "\n",
    "world_offset_frame = pydrake.multibody.tree.FixedOffsetFrame(\n",
    "    \"world_joint_frame\",\n",
    "    plant.world_frame(),\n",
    "    RigidTransform(RotationMatrix.MakeXRotation(np.pi / 2), [0, 0, 0]),\n",
    ")\n",
    "plant.AddFrame(world_offset_frame)\n",
    "\n",
    "# Create the sphere bodies\n",
    "spheres = []\n",
    "sphere_joints = []\n",
    "for i in range(3):\n",
    "    sphere_name = \"sphere_{}\".format(i)\n",
    "\n",
    "    color = [0, 0, 0, 1]\n",
    "    color[i] = 1\n",
    "    spheres.append(\n",
    "        AddShape(\n",
    "            plant,\n",
    "            pydrake.geometry.Sphere(r),\n",
    "            name=sphere_name,\n",
    "            mass=m,\n",
    "            mu=mu,\n",
    "            color=color,\n",
    "        )\n",
    "    )\n",
    "\n",
    "    # Set up planar joint\n",
    "    sphere_joints.append(\n",
    "        plant.AddJoint(\n",
    "            pydrake.multibody.tree.PlanarJoint(\n",
    "                \"sphere_{}_joint\".format(i),\n",
    "                world_offset_frame,\n",
    "                plant.GetFrameByName(sphere_name),\n",
    "            )\n",
    "        )\n",
    "    )\n",
    "\n",
    "ground = AddShape(plant, pydrake.geometry.Box(10, 10, 2.0), name=\"ground\", mu=mu)\n",
    "plant.WeldFrames(\n",
    "    plant.world_frame(),\n",
    "    plant.GetFrameByName(\"ground\"),\n",
    "    RigidTransform(p=[0, 0, -1.0]),\n",
    ")\n",
    "\n",
    "plant.Finalize()\n",
    "\n",
    "visualizer = MeshcatVisualizer.AddToBuilder(builder, scene_graph, meshcat)\n",
    "\n",
    "diagram = builder.Build()\n",
    "context = diagram.CreateDefaultContext()\n",
    "plant_context = plant.GetMyMutableContextFromRoot(context)"
   ]
  },
  {
   "cell_type": "markdown",
   "metadata": {
    "cell_id": "00010-2b1553e5-310a-49b1-a036-01094c34268e",
    "deepnote_cell_type": "markdown",
    "tags": []
   },
   "source": [
    "# Using the plant\n",
    "This is the main of the notebook for you to edit. (The other spot is where the system parameters are defined near the top of the script.) There are three sections:\n",
    "\n",
    "1. **Initializing your guess for a static equilibrium position**: You can specify the $xyz$ position of each of the sphere. (To answer the question, you'll want to make it match one of the configurations from the problem, but feel free to experiment/try others.)\n",
    "2. **Computing the static equilibrium position**: The `StaticEquilibriumProblem` class allows us to automatically set up the optimization problem for static equilibrium for a given plant. We use this class to compute an actual equilibrium position.\n",
    "3. **Simulating the plant.** Given a configuration for the system, simulate how it evolves over time."
   ]
  },
  {
   "cell_type": "markdown",
   "metadata": {
    "cell_id": "00011-ba8cf8f2-1453-423d-afc5-75d417fd2674",
    "deepnote_cell_type": "markdown",
    "tags": []
   },
   "source": [
    "## Initializing your guess for a static equilibrium position\n",
    "Specify the x and z of the center of mass of each of the spheres. (The spheres are fixed in the $xz$ plane, so that's all you have to specify.)"
   ]
  },
  {
   "cell_type": "code",
   "execution_count": null,
   "metadata": {
    "cell_id": "00012-386f5e93-c2de-4b3f-a5f8-d000166de3a4",
    "deepnote_cell_type": "code",
    "deepnote_to_be_reexecuted": false,
    "execution_millis": 0,
    "execution_start": 1633609446283,
    "source_hash": "c29bf571",
    "tags": []
   },
   "outputs": [],
   "source": [
    "#########\n",
    "# REPLACE WITH YOUR CODE\n",
    "guesses = [\n",
    "    [0, r],  # Red sphere xz\n",
    "    [2 * r, r],  # Green sphere xz\n",
    "    [4 * r, r],  # Blue sphere xz\n",
    "]\n",
    "#########"
   ]
  },
  {
   "cell_type": "markdown",
   "metadata": {
    "cell_id": "00012-e686da53-f1d5-4c87-8c65-d9a83ce9f22a",
    "deepnote_cell_type": "markdown",
    "tags": []
   },
   "source": [
    "### Visualizing your guess\n",
    "Run the following cell to see your guess rendered in meshcat. **This does not check for static equilibrium or run any physics simulation,** but it will let you verify you've set your pose how you intended."
   ]
  },
  {
   "cell_type": "code",
   "execution_count": null,
   "metadata": {
    "cell_id": "00010-17d4b544-4e9b-4b26-b15d-d1f78b12864d",
    "deepnote_cell_type": "code",
    "deepnote_to_be_reexecuted": false,
    "execution_millis": 0,
    "execution_start": 1633609447006,
    "source_hash": "2c3e43ba",
    "tags": []
   },
   "outputs": [],
   "source": [
    "for i, guess in enumerate(guesses):\n",
    "    sphere_joints[i].set_translation(plant_context, guess)\n",
    "diagram.ForcedPublish(context)"
   ]
  },
  {
   "cell_type": "markdown",
   "metadata": {
    "cell_id": "00015-03a43957-700c-4f9a-9118-890d07c17399",
    "deepnote_cell_type": "markdown",
    "tags": []
   },
   "source": [
    "## Computing the static equilibrium position\n",
    "This cell computes a static equilibrium postion. If it's close to your original guess, then you initialized the system at equilibrium. If not, your guess is not an equilibrium."
   ]
  },
  {
   "cell_type": "code",
   "execution_count": null,
   "metadata": {
    "cell_id": "00008-4e831255-59f3-4385-82e3-17eefcda5a0f",
    "deepnote_cell_type": "code",
    "deepnote_to_be_reexecuted": false,
    "execution_millis": 12,
    "execution_start": 1633609451706,
    "source_hash": "614edfda",
    "tags": []
   },
   "outputs": [],
   "source": [
    "# The StaticEquilibriumProblem needs an \"autodiff\" version of the diagram/multibody plant to\n",
    "# use gradient-based optimization.\n",
    "autodiff_diagram = diagram.ToAutoDiffXd()\n",
    "autodiff_context = autodiff_diagram.CreateDefaultContext()\n",
    "autodiff_plant = autodiff_diagram.GetSubsystemByName(\"plant\")\n",
    "static_equilibrium_problem = StaticEquilibriumProblem(\n",
    "    autodiff_plant,\n",
    "    autodiff_plant.GetMyContextFromRoot(autodiff_context),\n",
    "    set(),\n",
    ")\n",
    "\n",
    "initial_guess = np.zeros(plant.num_positions())\n",
    "\n",
    "for i, guess in enumerate(guesses):\n",
    "    initial_guess[3 * i] = guess[0]  # x\n",
    "    initial_guess[3 * i + 1] = guess[1]  # z\n",
    "\n",
    "static_equilibrium_problem.get_mutable_prog().SetInitialGuess(\n",
    "    static_equilibrium_problem.q_vars(), initial_guess\n",
    ")\n",
    "\n",
    "result = Solve(static_equilibrium_problem.prog())\n",
    "result.is_success()\n",
    "q_sol = result.GetSolution(static_equilibrium_problem.q_vars())\n",
    "\n",
    "for i, guess in enumerate(guesses):\n",
    "    print(\n",
    "        \"Guess for position of {}:\".format(i),\n",
    "        guess,\n",
    "        \"\\tEquilibrium position of sphere {}:\".format(i),\n",
    "        q_sol[3 * i : 3 * i + 2],\n",
    "    )\n",
    "\n",
    "for wrench in static_equilibrium_problem.GetContactWrenchSolution(result):\n",
    "    print(\n",
    "        f\"Spatial force at world position {wrench.p_WCb_W} between {wrench.bodyA_index} and {wrench.bodyB_index}:\"\n",
    "    )\n",
    "    print(f\"  translational: {wrench.F_Cb_W.translational()}\")\n",
    "    print(f\"  rotational: {wrench.F_Cb_W.rotational()}\")"
   ]
  },
  {
   "cell_type": "markdown",
   "metadata": {
    "cell_id": "00018-3e976d88-1a6f-43cf-8ccb-a87d224ac961",
    "deepnote_cell_type": "markdown",
    "tags": []
   },
   "source": [
    "### Visualizing the solution configuration\n",
    "This doesn't yet run the dynamics for the system (so the objects won't move), but it *will* update their poses to match the results of `StaticEquilibriumProblem`."
   ]
  },
  {
   "cell_type": "code",
   "execution_count": null,
   "metadata": {
    "cell_id": "00015-814bd494-f4e6-49b6-b394-f2d9a2a3b0bf",
    "deepnote_cell_type": "code",
    "deepnote_to_be_reexecuted": false,
    "execution_millis": 1,
    "execution_start": 1633609459704,
    "source_hash": "fdff2164",
    "tags": []
   },
   "outputs": [],
   "source": [
    "plant.SetPositions(plant_context, q_sol)\n",
    "diagram.ForcedPublish(context)"
   ]
  },
  {
   "cell_type": "markdown",
   "metadata": {
    "cell_id": "00019-c6b4c5e2-5448-4d54-9cf7-1d5702e4f499",
    "deepnote_cell_type": "markdown",
    "tags": []
   },
   "source": [
    "## Simulating the solution\n",
    "\n",
    "You may see simulations of the static equilibrium that result in the spheres moving.  Why is that?\n",
    "\n",
    "Keep in mind that\n",
    "- A static equilibrium might not be a *stable* equilibrium.  States close to the equilibrium might diverge.\n",
    "- The optimization solver satisfies the equations only up to a numerical tolerance."
   ]
  },
  {
   "cell_type": "code",
   "execution_count": null,
   "metadata": {
    "cell_id": "00009-ccaf5755-99ec-472e-ab73-bfe84cccd788",
    "deepnote_cell_type": "code",
    "deepnote_to_be_reexecuted": false,
    "execution_millis": 2,
    "execution_start": 1633609302580,
    "source_hash": "6371fa1b",
    "tags": []
   },
   "outputs": [],
   "source": [
    "simulator = Simulator(diagram)\n",
    "plant.SetPositions(plant.GetMyContextFromRoot(simulator.get_mutable_context()), q_sol)\n",
    "if running_as_notebook:\n",
    "    simulator.set_target_realtime_rate(1.0)\n",
    "    simulator.AdvanceTo(5.0)\n",
    "else:\n",
    "    simulator.AdvanceTo(0.1);"
   ]
  },
  {
   "cell_type": "code",
   "execution_count": null,
   "metadata": {
    "cell_id": "00020-c97afac7-1a72-4bb6-8e9a-61b6f57050ee",
    "deepnote_cell_type": "code",
    "deepnote_to_be_reexecuted": false,
    "execution_millis": 3,
    "execution_start": 1633609302587,
    "source_hash": "b623e53d",
    "tags": []
   },
   "outputs": [],
   "source": []
  },
  {
   "cell_type": "markdown",
   "metadata": {
    "created_in_deepnote_cell": true,
    "deepnote_cell_type": "markdown",
    "tags": []
   },
   "source": [
    "<a style='text-decoration:none;line-height:16px;display:flex;color:#5B5B62;padding:10px;justify-content:end;' href='https://deepnote.com?utm_source=created-in-deepnote-cell&projectId=da179554-1a2d-4268-85aa-b1e5b071712b' target=\"_blank\">\n",
    "<img alt='Created in deepnote.com' style='display:inline;max-height:16px;margin:0px;margin-right:7.5px;' src='data:image/svg+xml;base64,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' > </img>\n",
    "Created in <span style='font-weight:600;margin-left:4px;'>Deepnote</span></a>"
   ]
  }
 ],
 "metadata": {
  "celltoolbar": "Tags",
  "colab": {
   "collapsed_sections": [],
   "name": "bunny_icp.ipynb",
   "provenance": []
  },
  "deepnote": {},
  "deepnote_execution_queue": [],
  "deepnote_notebook_id": "c105f887-ae39-477c-931a-842c93378177",
  "interpreter": {
   "hash": "b0fa6594d8f4cbf19f97940f81e996739fb7646882a419484c72d19e05852a7e"
  },
  "kernelspec": {
   "display_name": "Python 3.9.12 64-bit",
   "language": "python",
   "name": "python3"
  },
  "language_info": {
   "codemirror_mode": {
    "name": "ipython",
    "version": 3
   },
   "file_extension": ".py",
   "mimetype": "text/x-python",
   "name": "python",
   "nbconvert_exporter": "python",
   "pygments_lexer": "ipython3",
   "version": "3.9.12"
  }
 },
 "nbformat": 4,
 "nbformat_minor": 1
}